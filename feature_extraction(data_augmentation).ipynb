{
  "cells": [
    {
      "cell_type": "markdown",
      "metadata": {
        "id": "view-in-github",
        "colab_type": "text"
      },
      "source": [
        "<a href=\"https://colab.research.google.com/github/Salman-Fazal-7/Me-vs-My-friend/blob/main/feature_extraction(data_augmentation).ipynb\" target=\"_parent\"><img src=\"https://colab.research.google.com/assets/colab-badge.svg\" alt=\"Open In Colab\"/></a>"
      ]
    },
    {
      "cell_type": "markdown",
      "source": [
        "# Import libraries"
      ],
      "metadata": {
        "id": "_uswS2n2AAlG"
      }
    },
    {
      "cell_type": "code",
      "execution_count": null,
      "metadata": {
        "id": "F3T2PWpSWhNA"
      },
      "outputs": [],
      "source": [
        "import tensorflow\n",
        "from tensorflow import keras\n",
        "from tensorflow.keras import Sequential\n",
        "from tensorflow.keras.layers import Dense,Flatten\n",
        "from keras.applications.vgg16 import VGG16"
      ]
    },
    {
      "cell_type": "markdown",
      "source": [
        "# mount drive"
      ],
      "metadata": {
        "id": "4RpUMX-t_7HA"
      }
    },
    {
      "cell_type": "code",
      "execution_count": null,
      "metadata": {
        "colab": {
          "base_uri": "https://localhost:8080/"
        },
        "id": "F4H_LpT-0YD_",
        "outputId": "82d907eb-869a-4636-83e7-f4f2e3dfdc1f"
      },
      "outputs": [
        {
          "output_type": "stream",
          "name": "stdout",
          "text": [
            "Mounted at /content/drive\n"
          ]
        }
      ],
      "source": [
        "from google.colab import drive\n",
        "drive.mount('/content/drive')"
      ]
    },
    {
      "cell_type": "code",
      "execution_count": null,
      "metadata": {
        "id": "bxnevRXZ1TBk"
      },
      "outputs": [],
      "source": [
        "original_dataset_dir = './drive/My Drive/images' #path to directories\n",
        "base_dir = './drive/My Drive/Colab Notebooks/work'"
      ]
    },
    {
      "cell_type": "code",
      "execution_count": null,
      "metadata": {
        "id": "EurjGu-dT9sY"
      },
      "outputs": [],
      "source": [
        "import os, shutil\n",
        "import numpy as np"
      ]
    },
    {
      "cell_type": "code",
      "execution_count": null,
      "metadata": {
        "id": "FfQ5kA7WRg-O"
      },
      "outputs": [],
      "source": [
        "train_dir = os.path.join(base_dir, 'train')\n",
        "validation_dir = os.path.join(base_dir, 'validation')\n",
        "test_dir = os.path.join(base_dir, 'test')\n"
      ]
    },
    {
      "cell_type": "markdown",
      "metadata": {
        "id": "iPXy3Jjqp0bp"
      },
      "source": [
        "# Adding a densely connected classifier on top of the convolutional base(pre-trained)"
      ]
    },
    {
      "cell_type": "code",
      "execution_count": null,
      "metadata": {
        "id": "SAzWn-kaWjzg",
        "colab": {
          "base_uri": "https://localhost:8080/"
        },
        "outputId": "f0498771-bc2e-475f-e8ec-53901a117658"
      },
      "outputs": [
        {
          "output_type": "stream",
          "name": "stdout",
          "text": [
            "Downloading data from https://storage.googleapis.com/tensorflow/keras-applications/vgg16/vgg16_weights_tf_dim_ordering_tf_kernels_notop.h5\n",
            "58889256/58889256 [==============================] - 4s 0us/step\n"
          ]
        }
      ],
      "source": [
        "conv_base = VGG16(\n",
        "    weights='imagenet',\n",
        "    include_top = False,\n",
        "    input_shape=(150,150,3)\n",
        ")"
      ]
    },
    {
      "cell_type": "markdown",
      "source": [
        "# Build Model"
      ],
      "metadata": {
        "id": "HQ_xTAPiQL58"
      }
    },
    {
      "cell_type": "code",
      "execution_count": null,
      "metadata": {
        "id": "lHs9HGn1hacI"
      },
      "outputs": [],
      "source": [
        "from tensorflow.keras.models import Sequential\n",
        "from tensorflow.keras.layers import Dense, Flatten, Dropout # import Dropout\n",
        "import keras\n",
        "\n",
        "model = Sequential()\n",
        "\n",
        "model.add(conv_base)\n",
        "model.add(Flatten())\n",
        "#model.add(Dropout(0.5))\n",
        "model.add(Dense(256,activation='relu'))\n",
        "model.add(Dense(1,activation='sigmoid'))"
      ]
    },
    {
      "cell_type": "markdown",
      "source": [
        "# Freezing"
      ],
      "metadata": {
        "id": "bNDK1a7bPv0X"
      }
    },
    {
      "cell_type": "code",
      "execution_count": null,
      "metadata": {
        "id": "YgUJbE_YWpuD"
      },
      "outputs": [],
      "source": [
        "conv_base.trainable = False"
      ]
    },
    {
      "cell_type": "code",
      "execution_count": null,
      "metadata": {
        "id": "o5ACyWpFE6JF"
      },
      "outputs": [],
      "source": [
        "from tensorflow.keras.preprocessing.image import ImageDataGenerator, array_to_img, img_to_array, load_img\n",
        "#ImageDataGenerator has been moved to tensorflow.keras.preprocessing.image"
      ]
    },
    {
      "cell_type": "code",
      "execution_count": null,
      "metadata": {
        "colab": {
          "base_uri": "https://localhost:8080/"
        },
        "id": "YKsNsIeDWsKF",
        "outputId": "26500da7-01a6-463b-9923-0e3f3faca693"
      },
      "outputs": [
        {
          "output_type": "stream",
          "name": "stdout",
          "text": [
            "Found 288 images belonging to 2 classes.\n",
            "Found 128 images belonging to 2 classes.\n"
          ]
        }
      ],
      "source": [
        "batch_size = 20\n",
        "\n",
        "train_datagen = ImageDataGenerator(\n",
        "        rescale=1./255,\n",
        "        shear_range=0.2,\n",
        "        zoom_range=0.2,\n",
        "        horizontal_flip=True)\n",
        "\n",
        "test_datagen = ImageDataGenerator(rescale=1./255)\n",
        "\n",
        "train_generator = train_datagen.flow_from_directory(\n",
        "        train_dir,\n",
        "        target_size=(150, 150),\n",
        "        batch_size=batch_size,\n",
        "        class_mode='binary')\n",
        "\n",
        "validation_generator = test_datagen.flow_from_directory(\n",
        "        validation_dir,\n",
        "        target_size=(150, 150),\n",
        "        batch_size=batch_size,\n",
        "        class_mode='binary')"
      ]
    },
    {
      "cell_type": "markdown",
      "source": [
        "# Compile"
      ],
      "metadata": {
        "id": "uNjilOCIPaWS"
      }
    },
    {
      "cell_type": "code",
      "execution_count": null,
      "metadata": {
        "id": "z5RJ0LecF-9V"
      },
      "outputs": [],
      "source": [
        "from tensorflow.keras import optimizers # Import the optimizers module from tensorflow.keras\n",
        "\n",
        "model.compile(loss='binary_crossentropy',\n",
        "              optimizer=optimizers.RMSprop(learning_rate=2e-5), # Use learning_rate instead of lr\n",
        "              metrics=['acc'])"
      ]
    },
    {
      "cell_type": "markdown",
      "source": [
        "# fitting"
      ],
      "metadata": {
        "id": "pYkWNBTIPTpo"
      }
    },
    {
      "cell_type": "code",
      "execution_count": null,
      "metadata": {
        "colab": {
          "base_uri": "https://localhost:8080/"
        },
        "id": "e9CusZ16XYU7",
        "outputId": "790b6eae-0066-435a-c60a-205130455f47"
      },
      "outputs": [
        {
          "output_type": "stream",
          "name": "stdout",
          "text": [
            "Epoch 1/30\n",
            "15/15 [==============================] - 189s 12s/step - loss: 0.6492 - acc: 0.6319 - val_loss: 0.5512 - val_acc: 0.7812\n",
            "Epoch 2/30\n",
            "15/15 [==============================] - 8s 549ms/step - loss: 0.5581 - acc: 0.7743 - val_loss: 0.4615 - val_acc: 0.8906\n",
            "Epoch 3/30\n",
            "15/15 [==============================] - 7s 473ms/step - loss: 0.4991 - acc: 0.8194 - val_loss: 0.4071 - val_acc: 0.9375\n",
            "Epoch 4/30\n",
            "15/15 [==============================] - 7s 452ms/step - loss: 0.4710 - acc: 0.8368 - val_loss: 0.3754 - val_acc: 0.8984\n",
            "Epoch 5/30\n",
            "15/15 [==============================] - 8s 540ms/step - loss: 0.4448 - acc: 0.8368 - val_loss: 0.3274 - val_acc: 0.9609\n",
            "Epoch 6/30\n",
            "15/15 [==============================] - 7s 472ms/step - loss: 0.4084 - acc: 0.8924 - val_loss: 0.2926 - val_acc: 0.9766\n",
            "Epoch 7/30\n",
            "15/15 [==============================] - 8s 530ms/step - loss: 0.3828 - acc: 0.8681 - val_loss: 0.2692 - val_acc: 0.9688\n",
            "Epoch 8/30\n",
            "15/15 [==============================] - 7s 469ms/step - loss: 0.3622 - acc: 0.8819 - val_loss: 0.2452 - val_acc: 0.9766\n",
            "Epoch 9/30\n",
            "15/15 [==============================] - 8s 534ms/step - loss: 0.3259 - acc: 0.9028 - val_loss: 0.2205 - val_acc: 0.9766\n",
            "Epoch 10/30\n",
            "15/15 [==============================] - 8s 550ms/step - loss: 0.3134 - acc: 0.8993 - val_loss: 0.2022 - val_acc: 0.9766\n",
            "Epoch 11/30\n",
            "15/15 [==============================] - 7s 473ms/step - loss: 0.3136 - acc: 0.8993 - val_loss: 0.1943 - val_acc: 0.9844\n",
            "Epoch 12/30\n",
            "15/15 [==============================] - 7s 481ms/step - loss: 0.2947 - acc: 0.9097 - val_loss: 0.1705 - val_acc: 0.9766\n",
            "Epoch 13/30\n",
            "15/15 [==============================] - 8s 552ms/step - loss: 0.2598 - acc: 0.9375 - val_loss: 0.1596 - val_acc: 0.9766\n",
            "Epoch 14/30\n",
            "15/15 [==============================] - 7s 458ms/step - loss: 0.2715 - acc: 0.9201 - val_loss: 0.1558 - val_acc: 0.9766\n",
            "Epoch 15/30\n",
            "15/15 [==============================] - 8s 560ms/step - loss: 0.2550 - acc: 0.9375 - val_loss: 0.1389 - val_acc: 0.9922\n",
            "Epoch 16/30\n",
            "15/15 [==============================] - 8s 516ms/step - loss: 0.2462 - acc: 0.9444 - val_loss: 0.1378 - val_acc: 1.0000\n",
            "Epoch 17/30\n",
            "15/15 [==============================] - 7s 458ms/step - loss: 0.2323 - acc: 0.9410 - val_loss: 0.1473 - val_acc: 1.0000\n",
            "Epoch 18/30\n",
            "15/15 [==============================] - 8s 555ms/step - loss: 0.2110 - acc: 0.9583 - val_loss: 0.1234 - val_acc: 1.0000\n",
            "Epoch 19/30\n",
            "15/15 [==============================] - 7s 491ms/step - loss: 0.2220 - acc: 0.9410 - val_loss: 0.1146 - val_acc: 0.9922\n",
            "Epoch 20/30\n",
            "15/15 [==============================] - 8s 496ms/step - loss: 0.2052 - acc: 0.9410 - val_loss: 0.1084 - val_acc: 1.0000\n",
            "Epoch 21/30\n",
            "15/15 [==============================] - 8s 513ms/step - loss: 0.1929 - acc: 0.9688 - val_loss: 0.1030 - val_acc: 1.0000\n",
            "Epoch 22/30\n",
            "15/15 [==============================] - 7s 465ms/step - loss: 0.1824 - acc: 0.9514 - val_loss: 0.1117 - val_acc: 1.0000\n",
            "Epoch 23/30\n",
            "15/15 [==============================] - 8s 549ms/step - loss: 0.1700 - acc: 0.9653 - val_loss: 0.0928 - val_acc: 1.0000\n",
            "Epoch 24/30\n",
            "15/15 [==============================] - 8s 528ms/step - loss: 0.1768 - acc: 0.9549 - val_loss: 0.0861 - val_acc: 1.0000\n",
            "Epoch 25/30\n",
            "15/15 [==============================] - 7s 460ms/step - loss: 0.1852 - acc: 0.9479 - val_loss: 0.0827 - val_acc: 1.0000\n",
            "Epoch 26/30\n",
            "15/15 [==============================] - 8s 535ms/step - loss: 0.1568 - acc: 0.9826 - val_loss: 0.0795 - val_acc: 1.0000\n",
            "Epoch 27/30\n",
            "15/15 [==============================] - 8s 524ms/step - loss: 0.1561 - acc: 0.9583 - val_loss: 0.0799 - val_acc: 1.0000\n",
            "Epoch 28/30\n",
            "15/15 [==============================] - 7s 445ms/step - loss: 0.1476 - acc: 0.9722 - val_loss: 0.0730 - val_acc: 1.0000\n",
            "Epoch 29/30\n",
            "15/15 [==============================] - 7s 448ms/step - loss: 0.1340 - acc: 0.9826 - val_loss: 0.0676 - val_acc: 1.0000\n",
            "Epoch 30/30\n",
            "15/15 [==============================] - 9s 629ms/step - loss: 0.1336 - acc: 0.9688 - val_loss: 0.0790 - val_acc: 1.0000\n"
          ]
        }
      ],
      "source": [
        "history = model.fit(\n",
        "        train_generator,\n",
        "        epochs=30,\n",
        "        validation_data=validation_generator)"
      ]
    },
    {
      "cell_type": "markdown",
      "source": [
        "# Plotting"
      ],
      "metadata": {
        "id": "NfyGdse5SZdw"
      }
    },
    {
      "cell_type": "code",
      "execution_count": null,
      "metadata": {
        "colab": {
          "base_uri": "https://localhost:8080/",
          "height": 887
        },
        "id": "og-6lOoITlIS",
        "outputId": "ce8a2162-0fc2-4616-dae3-2932e83eebf4"
      },
      "outputs": [
        {
          "output_type": "display_data",
          "data": {
            "text/plain": [
              "<Figure size 640x480 with 1 Axes>"
            ],
            "image/png": "[encoded data removed]"
          },
          "metadata": {}
        },
        {
          "output_type": "display_data",
          "data": {
            "text/plain": [
              "<Figure size 640x480 with 1 Axes>"
            ],
            "image/png": "[encoded data removed]"
          },
          "metadata": {}
        }
      ],
      "source": [
        "import matplotlib.pyplot as plt\n",
        "\n",
        "acc = history.history['acc']\n",
        "val_acc = history.history['val_acc']\n",
        "loss = history.history['loss']\n",
        "val_loss = history.history['val_loss']\n",
        "\n",
        "epochs = range(1, len(acc) + 1)\n",
        "\n",
        "plt.plot(epochs, acc, 'ro', label='Training acc')\n",
        "plt.plot(epochs, val_acc, 'b', label='Validation acc')\n",
        "plt.title('Training and validation accuracy')\n",
        "plt.legend()\n",
        "plt.figure()\n",
        "\n",
        "plt.plot(epochs, loss, 'ro', label='Training loss')\n",
        "plt.plot(epochs, val_loss, 'b', label='Validation loss')\n",
        "plt.title('Training and validation loss')\n",
        "plt.legend()\n",
        "plt.show()"
      ]
    },
    {
      "cell_type": "code",
      "execution_count": null,
      "metadata": {
        "colab": {
          "base_uri": "https://localhost:8080/"
        },
        "id": "8wp0XGVVbgPP",
        "outputId": "f9407e11-a575-4079-ea96-ab86f9fe4e07"
      },
      "outputs": [
        {
          "output_type": "stream",
          "name": "stderr",
          "text": [
            "/usr/local/lib/python3.10/dist-packages/keras/src/engine/training.py:3103: UserWarning: You are saving your model as an HDF5 file via `model.save()`. This file format is considered legacy. We recommend using instead the native Keras format, e.g. `model.save('my_model.keras')`.\n",
            "  saving_api.save_model(\n"
          ]
        }
      ],
      "source": [
        "model.save('salman_and_rizwan_4.h5')"
      ]
    }
  ],
  "metadata": {
    "colab": {
      "provenance": [],
      "gpuType": "T4",
      "authorship_tag": "ABX9TyNFiYsFjC/t2JaiQpa3GP9H",
      "include_colab_link": true
    },
    "kernelspec": {
      "display_name": "Python 3",
      "name": "python3"
    },
    "language_info": {
      "name": "python"
    },
    "accelerator": "GPU"
  },
  "nbformat": 4,
  "nbformat_minor": 0
}