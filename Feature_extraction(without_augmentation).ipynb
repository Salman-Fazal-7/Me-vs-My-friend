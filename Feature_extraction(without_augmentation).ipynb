{
  "cells": [
    {
      "cell_type": "markdown",
      "metadata": {
        "id": "view-in-github",
        "colab_type": "text"
      },
      "source": [
        "<a href=\"https://colab.research.google.com/github/Salman-Fazal-7/Me-vs-My-friend/blob/main/Feature_extraction(without_augmentation).ipynb\" target=\"_parent\"><img src=\"https://colab.research.google.com/assets/colab-badge.svg\" alt=\"Open In Colab\"/></a>"
      ]
    },
    {
      "cell_type": "markdown",
      "source": [
        "# import libraries"
      ],
      "metadata": {
        "id": "dnuwveGt-3Ci"
      }
    },
    {
      "cell_type": "code",
      "execution_count": null,
      "metadata": {
        "id": "YuB0fvuqy3s6"
      },
      "outputs": [],
      "source": [
        "import os, shutil\n",
        "import tensorflow as tf\n",
        "from tensorflow.keras import layers\n",
        "from tensorflow.keras import models, optimizers\n",
        "from tensorflow.keras.datasets import fashion_mnist\n",
        "from tensorflow.keras.utils import to_categorical\n",
        "from tensorflow.keras.preprocessing.image import ImageDataGenerator\n",
        "import matplotlib.pyplot as plt\n",
        "import imageio"
      ]
    },
    {
      "cell_type": "markdown",
      "source": [
        "# Mount Drive"
      ],
      "metadata": {
        "id": "MEb_Y8u3u7EQ"
      }
    },
    {
      "cell_type": "code",
      "execution_count": null,
      "metadata": {
        "colab": {
          "base_uri": "https://localhost:8080/"
        },
        "id": "F4H_LpT-0YD_",
        "outputId": "aad3a773-f4b2-4348-d78a-9e2af71ffe5a"
      },
      "outputs": [
        {
          "output_type": "stream",
          "name": "stdout",
          "text": [
            "Mounted at /content/drive\n"
          ]
        }
      ],
      "source": [
        "from google.colab import drive\n",
        "drive.mount('/content/drive')"
      ]
    },
    {
      "cell_type": "code",
      "execution_count": null,
      "metadata": {
        "colab": {
          "base_uri": "https://localhost:8080/"
        },
        "id": "CHweHhm90c5D",
        "outputId": "53e857ed-917c-4fa0-f867-6de01a1ff688"
      },
      "outputs": [
        {
          "output_type": "stream",
          "name": "stdout",
          "text": [
            " BA_reviews.csv1  'Colab Notebooks'   images\n"
          ]
        }
      ],
      "source": [
        "!ls '/content/drive/My Drive'"
      ]
    },
    {
      "cell_type": "code",
      "execution_count": null,
      "metadata": {
        "id": "bxnevRXZ1TBk"
      },
      "outputs": [],
      "source": [
        "original_dataset_dir = './drive/My Drive/images'     # path to directory\n",
        "base_dir = './drive/My Drive/Colab Notebooks/work'"
      ]
    },
    {
      "cell_type": "code",
      "execution_count": null,
      "metadata": {
        "collapsed": true,
        "id": "4tfGCzUH1cI_"
      },
      "outputs": [],
      "source": [
        "#Making Working folder  run it once\n",
        "os.mkdir(base_dir)"
      ]
    },
    {
      "cell_type": "code",
      "execution_count": null,
      "metadata": {
        "id": "Bm-kwzWDy3s8"
      },
      "outputs": [],
      "source": [
        "train_dir = os.path.join(base_dir, 'train')\n",
        "validation_dir = os.path.join(base_dir, 'validation')\n",
        "test_dir = os.path.join(base_dir, 'test')\n",
        "train_salman_dir = os.path.join(train_dir, 'Salman')\n",
        "train_rizwan_dir = os.path.join(train_dir, 'Rizwan')\n",
        "validation_salman_dir = os.path.join(validation_dir, 'Salman')\n",
        "validation_rizwan_dir = os.path.join(validation_dir, 'Rizwan')\n",
        "test_rizwan_dir = os.path.join(test_dir, 'Rizwan')\n",
        "test_salman_dir = os.path.join(test_dir, 'Salman')"
      ]
    },
    {
      "cell_type": "code",
      "execution_count": null,
      "metadata": {
        "id": "fZ-srJA21-3R"
      },
      "outputs": [],
      "source": [
        "#Making Directories /Folders run it once\n",
        "os.mkdir(train_dir)\n",
        "os.mkdir(validation_dir)\n",
        "os.mkdir(test_dir)\n",
        "\n",
        "os.mkdir(train_salman_dir)\n",
        "os.mkdir(train_rizwan_dir)\n",
        "os.mkdir(validation_salman_dir)\n",
        "os.mkdir(validation_rizwan_dir)\n",
        "os.mkdir(test_salman_dir)\n",
        "os.mkdir(test_rizwan_dir)"
      ]
    },
    {
      "cell_type": "markdown",
      "source": [
        "# salman data"
      ],
      "metadata": {
        "id": "PVpYh_oDo-dg"
      }
    },
    {
      "cell_type": "code",
      "execution_count": null,
      "metadata": {
        "id": "EiKsINHqtVFM"
      },
      "outputs": [],
      "source": [
        "salman_files = ['Salman-{}.jpg'.format(i) for i in range(1, 10)]\n",
        "data_generator = ImageDataGenerator()\n",
        "for file in salman_files:\n",
        "    src_file_path = os.path.join(original_dataset_dir, file)\n",
        "    img = plt.imread(src_file_path)\n",
        "\n",
        "    flipped_hor_img = data_generator.apply_transform(img, {'flip_horizontal': True})\n",
        "    file_dst = file.replace(\"-\", \"-flipped_horizontal_image-\")\n",
        "    dst_file_path = os.path.join(train_salman_dir, file_dst)\n",
        "    imageio.imwrite(dst_file_path, flipped_hor_img)\n",
        "\n",
        "    flipped_ver_img = data_generator.apply_transform(img, {'flip_vertical': True})\n",
        "    file_dst = file.replace(\"-\", \"-flipped_vertical_image-\")\n",
        "    dst_file_path = os.path.join(train_salman_dir, file_dst)\n",
        "    imageio.imwrite(dst_file_path, flipped_ver_img)\n",
        "\n",
        "    flipped_hor_ver_img = data_generator.apply_transform(img, {'flip_vertical': True, 'flip_horizontal': True})\n",
        "    file_dst = file.replace(\"-\", \"-flipped_horizontal_vertical_image-\")\n",
        "    dst_file_path = os.path.join(train_salman_dir, file_dst)\n",
        "    imageio.imwrite(dst_file_path, flipped_hor_ver_img)\n",
        "\n",
        "    sheared_img = data_generator.apply_transform(img, {'shear': 30})\n",
        "    file_dst = file.replace(\"-\", \"-sheared_image-\")\n",
        "    dst_file_path = os.path.join(train_salman_dir, file_dst)\n",
        "    imageio.imwrite(dst_file_path, sheared_img)\n",
        "\n",
        "    for angle in range(0, 360, 30):\n",
        "        rotated_img = data_generator.apply_transform(img, {'theta': angle})\n",
        "        file_dst = file.replace(\"-\", \"-\" + str(angle) + \"-\")\n",
        "        dst_file_path = os.path.join(train_salman_dir, file_dst)\n",
        "        imageio.imwrite(dst_file_path, rotated_img)\n"
      ]
    },
    {
      "cell_type": "code",
      "execution_count": null,
      "metadata": {
        "id": "r7Wpgreeeugx"
      },
      "outputs": [],
      "source": [
        "salman_files = ['Salman-{}.jpg'.format(i) for i in range(1, 5)]\n",
        "data_generator = ImageDataGenerator()\n",
        "for file in salman_files:\n",
        "    src_file_path = os.path.join(original_dataset_dir, file)\n",
        "    img = plt.imread(src_file_path)\n",
        "\n",
        "    flipped_hor_img = data_generator.apply_transform(img, {'flip_horizontal': True})\n",
        "    file_dst = file.replace(\"-\", \"-flipped_horizontal_image-\")\n",
        "    dst_file_path = os.path.join(validation_salman_dir, file_dst)\n",
        "    imageio.imwrite(dst_file_path, flipped_hor_img)\n",
        "\n",
        "    flipped_ver_img = data_generator.apply_transform(img, {'flip_vertical': True})\n",
        "    file_dst = file.replace(\"-\", \"-flipped_vertical_image-\")\n",
        "    dst_file_path = os.path.join(validation_salman_dir, file_dst)\n",
        "    imageio.imwrite(dst_file_path, flipped_ver_img)\n",
        "\n",
        "    flipped_hor_ver_img = data_generator.apply_transform(img, {'flip_vertical': True, 'flip_horizontal': True})\n",
        "    file_dst = file.replace(\"-\", \"-flipped_horizontal_vertical_image-\")\n",
        "    dst_file_path = os.path.join(validation_salman_dir, file_dst)\n",
        "    imageio.imwrite(dst_file_path, flipped_hor_ver_img)\n",
        "\n",
        "    sheared_img = data_generator.apply_transform(img, {'shear': 30})\n",
        "    file_dst = file.replace(\"-\", \"-sheared_image-\")\n",
        "    dst_file_path = os.path.join(validation_salman_dir, file_dst)\n",
        "    imageio.imwrite(dst_file_path, sheared_img)\n",
        "\n",
        "    for angle in range(0, 360, 30):\n",
        "        rotated_img = data_generator.apply_transform(img, {'theta': angle})\n",
        "        file_dst = file.replace(\"-\", \"-\" + str(angle) + \"-\")\n",
        "        dst_file_path = os.path.join(validation_salman_dir, file_dst)\n",
        "        imageio.imwrite(dst_file_path, rotated_img)\n"
      ]
    },
    {
      "cell_type": "code",
      "execution_count": null,
      "metadata": {
        "id": "08TPS1emgK1o"
      },
      "outputs": [],
      "source": [
        "salman_files = ['Salman-{}.jpg'.format(i) for i in range(5, 10)]\n",
        "data_generator = ImageDataGenerator()\n",
        "for file in salman_files:\n",
        "    src_file_path = os.path.join(original_dataset_dir, file)\n",
        "    img = plt.imread(src_file_path)\n",
        "\n",
        "    flipped_hor_img = data_generator.apply_transform(img, {'flip_horizontal': True})\n",
        "    file_dst = file.replace(\"-\", \"-flipped_horizontal_image-\")\n",
        "    dst_file_path = os.path.join(test_salman_dir, file_dst)\n",
        "    imageio.imwrite(dst_file_path, flipped_hor_img)\n",
        "\n",
        "    flipped_ver_img = data_generator.apply_transform(img, {'flip_vertical': True})\n",
        "    file_dst = file.replace(\"-\", \"-flipped_vertical_image-\")\n",
        "    dst_file_path = os.path.join(test_salman_dir, file_dst)\n",
        "    imageio.imwrite(dst_file_path, flipped_ver_img)\n",
        "\n",
        "    flipped_hor_ver_img = data_generator.apply_transform(img, {'flip_vertical': True, 'flip_horizontal': True})\n",
        "    file_dst = file.replace(\"-\", \"-flipped_horizontal_vertical_image-\")\n",
        "    dst_file_path = os.path.join(test_salman_dir, file_dst)\n",
        "    imageio.imwrite(dst_file_path, flipped_hor_ver_img)\n",
        "\n",
        "    sheared_img = data_generator.apply_transform(img, {'shear': 30})\n",
        "    file_dst = file.replace(\"-\", \"-sheared_image-\")\n",
        "    dst_file_path = os.path.join(test_salman_dir, file_dst)\n",
        "    imageio.imwrite(dst_file_path, sheared_img)\n"
      ]
    },
    {
      "cell_type": "markdown",
      "source": [
        "# rizwan data"
      ],
      "metadata": {
        "id": "HTg0dYxJo18j"
      }
    },
    {
      "cell_type": "code",
      "execution_count": null,
      "metadata": {
        "id": "R6SjiM__4EXg"
      },
      "outputs": [],
      "source": [
        "rizwan_files = ['Rizwan-{}.jpg'.format(i) for i in range(1, 10)]\n",
        "data_generator = ImageDataGenerator()\n",
        "for file in rizwan_files:\n",
        "    src_file_path = os.path.join(original_dataset_dir, file)\n",
        "    img = plt.imread(src_file_path)\n",
        "\n",
        "    flipped_hor_img = data_generator.apply_transform(img, {'flip_horizontal': True})\n",
        "    file_dst = file.replace(\"-\", \"-flipped_horizontal_image-\")\n",
        "    dst_file_path = os.path.join(train_rizwan_dir, file_dst)\n",
        "    imageio.imwrite(dst_file_path, flipped_hor_img)\n",
        "\n",
        "    flipped_ver_img = data_generator.apply_transform(img, {'flip_vertical': True})\n",
        "    file_dst = file.replace(\"-\", \"-flipped_vertical_image-\")\n",
        "    dst_file_path = os.path.join(train_rizwan_dir, file_dst)\n",
        "    imageio.imwrite(dst_file_path, flipped_ver_img)\n",
        "\n",
        "    flipped_hor_ver_img = data_generator.apply_transform(img, {'flip_vertical': True, 'flip_horizontal': True})\n",
        "    file_dst = file.replace(\"-\", \"-flipped_horizontal_vertical_image-\")\n",
        "    dst_file_path = os.path.join(train_rizwan_dir, file_dst)\n",
        "    imageio.imwrite(dst_file_path, flipped_hor_ver_img)\n",
        "\n",
        "    sheared_img = data_generator.apply_transform(img, {'shear': 30})\n",
        "    file_dst = file.replace(\"-\", \"-sheared_image-\")\n",
        "    dst_file_path = os.path.join(train_rizwan_dir, file_dst)\n",
        "    imageio.imwrite(dst_file_path, sheared_img)\n",
        "\n",
        "    for angle in range(0, 360, 30):\n",
        "        rotated_img = data_generator.apply_transform(img, {'theta': angle})\n",
        "        file_dst = file.replace(\"-\", \"-\" + str(angle) + \"-\")\n",
        "        dst_file_path = os.path.join(train_rizwan_dir, file_dst)\n",
        "        imageio.imwrite(dst_file_path, rotated_img)"
      ]
    },
    {
      "cell_type": "code",
      "execution_count": null,
      "metadata": {
        "id": "syLPZRPJiJNQ"
      },
      "outputs": [],
      "source": [
        "rizwan_files = ['Rizwan-{}.jpg'.format(i) for i in range(1, 5)]\n",
        "data_generator = ImageDataGenerator()\n",
        "for file in rizwan_files:\n",
        "    src_file_path = os.path.join(original_dataset_dir, file)\n",
        "    img = plt.imread(src_file_path)\n",
        "\n",
        "    flipped_hor_img = data_generator.apply_transform(img, {'flip_horizontal': True})\n",
        "    file_dst = file.replace(\"-\", \"-flipped_horizontal_image-\")\n",
        "    dst_file_path = os.path.join(validation_rizwan_dir, file_dst)\n",
        "    imageio.imwrite(dst_file_path, flipped_hor_img)\n",
        "\n",
        "    flipped_ver_img = data_generator.apply_transform(img, {'flip_vertical': True})\n",
        "    file_dst = file.replace(\"-\", \"-flipped_vertical_image-\")\n",
        "    dst_file_path = os.path.join(validation_rizwan_dir, file_dst)\n",
        "    imageio.imwrite(dst_file_path, flipped_ver_img)\n",
        "\n",
        "    flipped_hor_ver_img = data_generator.apply_transform(img, {'flip_vertical': True, 'flip_horizontal': True})\n",
        "    file_dst = file.replace(\"-\", \"-flipped_horizontal_vertical_image-\")\n",
        "    dst_file_path = os.path.join(validation_rizwan_dir, file_dst)\n",
        "    imageio.imwrite(dst_file_path, flipped_hor_ver_img)\n",
        "\n",
        "    sheared_img = data_generator.apply_transform(img, {'shear': 30})\n",
        "    file_dst = file.replace(\"-\", \"-sheared_image-\")\n",
        "    dst_file_path = os.path.join(validation_rizwan_dir, file_dst)\n",
        "    imageio.imwrite(dst_file_path, sheared_img)\n",
        "\n",
        "    for angle in range(0, 360, 30):\n",
        "        rotated_img = data_generator.apply_transform(img, {'theta': angle})\n",
        "        file_dst = file.replace(\"-\", \"-\" + str(angle) + \"-\")\n",
        "        dst_file_path = os.path.join(validation_rizwan_dir, file_dst)\n",
        "        imageio.imwrite(dst_file_path, rotated_img)"
      ]
    },
    {
      "cell_type": "code",
      "execution_count": null,
      "metadata": {
        "id": "zIdklOm5nekP"
      },
      "outputs": [],
      "source": [
        "rizwan_files = ['Rizwan-{}.jpg'.format(i) for i in range(5, 10)]\n",
        "data_generator = ImageDataGenerator()\n",
        "for file in rizwan_files:\n",
        "    src_file_path = os.path.join(original_dataset_dir, file)\n",
        "    img = plt.imread(src_file_path)\n",
        "\n",
        "    flipped_hor_img = data_generator.apply_transform(img, {'flip_horizontal': True})\n",
        "    file_dst = file.replace(\"-\", \"-flipped_horizontal_image-\")\n",
        "    dst_file_path = os.path.join(test_rizwan_dir, file_dst)\n",
        "    imageio.imwrite(dst_file_path, flipped_hor_img)\n",
        "\n",
        "    flipped_ver_img = data_generator.apply_transform(img, {'flip_vertical': True})\n",
        "    file_dst = file.replace(\"-\", \"-flipped_vertical_image-\")\n",
        "    dst_file_path = os.path.join(test_rizwan_dir, file_dst)\n",
        "    imageio.imwrite(dst_file_path, flipped_ver_img)\n",
        "\n",
        "    flipped_hor_ver_img = data_generator.apply_transform(img, {'flip_vertical': True, 'flip_horizontal': True})\n",
        "    file_dst = file.replace(\"-\", \"-flipped_horizontal_vertical_image-\")\n",
        "    dst_file_path = os.path.join(test_rizwan_dir, file_dst)\n",
        "    imageio.imwrite(dst_file_path, flipped_hor_ver_img)\n",
        "\n",
        "    sheared_img = data_generator.apply_transform(img, {'shear': 30})\n",
        "    file_dst = file.replace(\"-\", \"-sheared_image-\")\n",
        "    dst_file_path = os.path.join(test_rizwan_dir, file_dst)\n",
        "    imageio.imwrite(dst_file_path, sheared_img)\n"
      ]
    },
    {
      "cell_type": "code",
      "execution_count": null,
      "metadata": {
        "colab": {
          "base_uri": "https://localhost:8080/"
        },
        "id": "FMuPJpgzGYLZ",
        "outputId": "9a453a61-6e82-467c-e224-875d3dbf4864"
      },
      "outputs": [
        {
          "output_type": "stream",
          "name": "stdout",
          "text": [
            "total training Salman images: 144\n",
            "total training Rizwan images: 144\n",
            "total validation Salman images: 64\n",
            "total validation Rizwan images: 64\n",
            "total test Salman images: 20\n",
            "total test Rizwan images: 20\n"
          ]
        }
      ],
      "source": [
        "print('total training Salman images:', len(os.listdir(train_salman_dir)))\n",
        "print('total training Rizwan images:', len(os.listdir(train_rizwan_dir)))\n",
        "print('total validation Salman images:', len(os.listdir(validation_salman_dir)))\n",
        "print('total validation Rizwan images:', len(os.listdir(validation_rizwan_dir)))\n",
        "print('total test Salman images:', len(os.listdir(test_salman_dir)))\n",
        "print('total test Rizwan images:', len(os.listdir(test_rizwan_dir)))"
      ]
    },
    {
      "cell_type": "markdown",
      "source": [
        "# feature extraction without augmentation"
      ],
      "metadata": {
        "id": "ITI7S3fYkV2K"
      }
    },
    {
      "cell_type": "markdown",
      "source": [
        "# load pre-trained"
      ],
      "metadata": {
        "id": "TW1ZOZI0ZVlC"
      }
    },
    {
      "cell_type": "code",
      "execution_count": null,
      "metadata": {
        "id": "A-6OoDQOQvOK",
        "colab": {
          "base_uri": "https://localhost:8080/"
        },
        "outputId": "5981d54d-2d6f-4cb9-fa25-03f6cfff07c4"
      },
      "outputs": [
        {
          "output_type": "stream",
          "name": "stdout",
          "text": [
            "Downloading data from https://storage.googleapis.com/tensorflow/keras-applications/vgg16/vgg16_weights_tf_dim_ordering_tf_kernels_notop.h5\n",
            "\u001b[1m58889256/58889256\u001b[0m \u001b[32m━━━━━━━━━━━━━━━━━━━━\u001b[0m\u001b[37m\u001b[0m \u001b[1m0s\u001b[0m 0us/step\n"
          ]
        }
      ],
      "source": [
        "from keras.applications import VGG16\n",
        "conv_base = VGG16(weights='imagenet', include_top=False, input_shape=(150, 150, 3))\n"
      ]
    },
    {
      "cell_type": "code",
      "execution_count": null,
      "metadata": {
        "colab": {
          "base_uri": "https://localhost:8080/",
          "height": 782
        },
        "id": "f2_rnr-lQ1P7",
        "outputId": "072aa564-bc6f-46bd-b196-7ff29c23e92a"
      },
      "outputs": [
        {
          "output_type": "display_data",
          "data": {
            "text/plain": [
              "\u001b[1mModel: \"vgg16\"\u001b[0m\n"
            ],
            "text/html": [
              "<pre style=\"white-space:pre;overflow-x:auto;line-height:normal;font-family:Menlo,'DejaVu Sans Mono',consolas,'Courier New',monospace\"><span style=\"font-weight: bold\">Model: \"vgg16\"</span>\n",
              "</pre>\n"
            ]
          },
          "metadata": {}
        },
        {
          "output_type": "display_data",
          "data": {
            "text/plain": [
              "┏━━━━━━━━━━━━━━━━━━━━━━━━━━━━━━━━━━━━━━┳━━━━━━━━━━━━━━━━━━━━━━━━━━━━━┳━━━━━━━━━━━━━━━━━┓\n",
              "┃\u001b[1m \u001b[0m\u001b[1mLayer (type)                        \u001b[0m\u001b[1m \u001b[0m┃\u001b[1m \u001b[0m\u001b[1mOutput Shape               \u001b[0m\u001b[1m \u001b[0m┃\u001b[1m \u001b[0m\u001b[1m        Param #\u001b[0m\u001b[1m \u001b[0m┃\n",
              "┡━━━━━━━━━━━━━━━━━━━━━━━━━━━━━━━━━━━━━━╇━━━━━━━━━━━━━━━━━━━━━━━━━━━━━╇━━━━━━━━━━━━━━━━━┩\n",
              "│ input_layer (\u001b[38;5;33mInputLayer\u001b[0m)             │ (\u001b[38;5;45mNone\u001b[0m, \u001b[38;5;34m150\u001b[0m, \u001b[38;5;34m150\u001b[0m, \u001b[38;5;34m3\u001b[0m)         │               \u001b[38;5;34m0\u001b[0m │\n",
              "├──────────────────────────────────────┼─────────────────────────────┼─────────────────┤\n",
              "│ block1_conv1 (\u001b[38;5;33mConv2D\u001b[0m)                │ (\u001b[38;5;45mNone\u001b[0m, \u001b[38;5;34m150\u001b[0m, \u001b[38;5;34m150\u001b[0m, \u001b[38;5;34m64\u001b[0m)        │           \u001b[38;5;34m1,792\u001b[0m │\n",
              "├──────────────────────────────────────┼─────────────────────────────┼─────────────────┤\n",
              "│ block1_conv2 (\u001b[38;5;33mConv2D\u001b[0m)                │ (\u001b[38;5;45mNone\u001b[0m, \u001b[38;5;34m150\u001b[0m, \u001b[38;5;34m150\u001b[0m, \u001b[38;5;34m64\u001b[0m)        │          \u001b[38;5;34m36,928\u001b[0m │\n",
              "├──────────────────────────────────────┼─────────────────────────────┼─────────────────┤\n",
              "│ block1_pool (\u001b[38;5;33mMaxPooling2D\u001b[0m)           │ (\u001b[38;5;45mNone\u001b[0m, \u001b[38;5;34m75\u001b[0m, \u001b[38;5;34m75\u001b[0m, \u001b[38;5;34m64\u001b[0m)          │               \u001b[38;5;34m0\u001b[0m │\n",
              "├──────────────────────────────────────┼─────────────────────────────┼─────────────────┤\n",
              "│ block2_conv1 (\u001b[38;5;33mConv2D\u001b[0m)                │ (\u001b[38;5;45mNone\u001b[0m, \u001b[38;5;34m75\u001b[0m, \u001b[38;5;34m75\u001b[0m, \u001b[38;5;34m128\u001b[0m)         │          \u001b[38;5;34m73,856\u001b[0m │\n",
              "├──────────────────────────────────────┼─────────────────────────────┼─────────────────┤\n",
              "│ block2_conv2 (\u001b[38;5;33mConv2D\u001b[0m)                │ (\u001b[38;5;45mNone\u001b[0m, \u001b[38;5;34m75\u001b[0m, \u001b[38;5;34m75\u001b[0m, \u001b[38;5;34m128\u001b[0m)         │         \u001b[38;5;34m147,584\u001b[0m │\n",
              "├──────────────────────────────────────┼─────────────────────────────┼─────────────────┤\n",
              "│ block2_pool (\u001b[38;5;33mMaxPooling2D\u001b[0m)           │ (\u001b[38;5;45mNone\u001b[0m, \u001b[38;5;34m37\u001b[0m, \u001b[38;5;34m37\u001b[0m, \u001b[38;5;34m128\u001b[0m)         │               \u001b[38;5;34m0\u001b[0m │\n",
              "├──────────────────────────────────────┼─────────────────────────────┼─────────────────┤\n",
              "│ block3_conv1 (\u001b[38;5;33mConv2D\u001b[0m)                │ (\u001b[38;5;45mNone\u001b[0m, \u001b[38;5;34m37\u001b[0m, \u001b[38;5;34m37\u001b[0m, \u001b[38;5;34m256\u001b[0m)         │         \u001b[38;5;34m295,168\u001b[0m │\n",
              "├──────────────────────────────────────┼─────────────────────────────┼─────────────────┤\n",
              "│ block3_conv2 (\u001b[38;5;33mConv2D\u001b[0m)                │ (\u001b[38;5;45mNone\u001b[0m, \u001b[38;5;34m37\u001b[0m, \u001b[38;5;34m37\u001b[0m, \u001b[38;5;34m256\u001b[0m)         │         \u001b[38;5;34m590,080\u001b[0m │\n",
              "├──────────────────────────────────────┼─────────────────────────────┼─────────────────┤\n",
              "│ block3_conv3 (\u001b[38;5;33mConv2D\u001b[0m)                │ (\u001b[38;5;45mNone\u001b[0m, \u001b[38;5;34m37\u001b[0m, \u001b[38;5;34m37\u001b[0m, \u001b[38;5;34m256\u001b[0m)         │         \u001b[38;5;34m590,080\u001b[0m │\n",
              "├──────────────────────────────────────┼─────────────────────────────┼─────────────────┤\n",
              "│ block3_pool (\u001b[38;5;33mMaxPooling2D\u001b[0m)           │ (\u001b[38;5;45mNone\u001b[0m, \u001b[38;5;34m18\u001b[0m, \u001b[38;5;34m18\u001b[0m, \u001b[38;5;34m256\u001b[0m)         │               \u001b[38;5;34m0\u001b[0m │\n",
              "├──────────────────────────────────────┼─────────────────────────────┼─────────────────┤\n",
              "│ block4_conv1 (\u001b[38;5;33mConv2D\u001b[0m)                │ (\u001b[38;5;45mNone\u001b[0m, \u001b[38;5;34m18\u001b[0m, \u001b[38;5;34m18\u001b[0m, \u001b[38;5;34m512\u001b[0m)         │       \u001b[38;5;34m1,180,160\u001b[0m │\n",
              "├──────────────────────────────────────┼─────────────────────────────┼─────────────────┤\n",
              "│ block4_conv2 (\u001b[38;5;33mConv2D\u001b[0m)                │ (\u001b[38;5;45mNone\u001b[0m, \u001b[38;5;34m18\u001b[0m, \u001b[38;5;34m18\u001b[0m, \u001b[38;5;34m512\u001b[0m)         │       \u001b[38;5;34m2,359,808\u001b[0m │\n",
              "├──────────────────────────────────────┼─────────────────────────────┼─────────────────┤\n",
              "│ block4_conv3 (\u001b[38;5;33mConv2D\u001b[0m)                │ (\u001b[38;5;45mNone\u001b[0m, \u001b[38;5;34m18\u001b[0m, \u001b[38;5;34m18\u001b[0m, \u001b[38;5;34m512\u001b[0m)         │       \u001b[38;5;34m2,359,808\u001b[0m │\n",
              "├──────────────────────────────────────┼─────────────────────────────┼─────────────────┤\n",
              "│ block4_pool (\u001b[38;5;33mMaxPooling2D\u001b[0m)           │ (\u001b[38;5;45mNone\u001b[0m, \u001b[38;5;34m9\u001b[0m, \u001b[38;5;34m9\u001b[0m, \u001b[38;5;34m512\u001b[0m)           │               \u001b[38;5;34m0\u001b[0m │\n",
              "├──────────────────────────────────────┼─────────────────────────────┼─────────────────┤\n",
              "│ block5_conv1 (\u001b[38;5;33mConv2D\u001b[0m)                │ (\u001b[38;5;45mNone\u001b[0m, \u001b[38;5;34m9\u001b[0m, \u001b[38;5;34m9\u001b[0m, \u001b[38;5;34m512\u001b[0m)           │       \u001b[38;5;34m2,359,808\u001b[0m │\n",
              "├──────────────────────────────────────┼─────────────────────────────┼─────────────────┤\n",
              "│ block5_conv2 (\u001b[38;5;33mConv2D\u001b[0m)                │ (\u001b[38;5;45mNone\u001b[0m, \u001b[38;5;34m9\u001b[0m, \u001b[38;5;34m9\u001b[0m, \u001b[38;5;34m512\u001b[0m)           │       \u001b[38;5;34m2,359,808\u001b[0m │\n",
              "├──────────────────────────────────────┼─────────────────────────────┼─────────────────┤\n",
              "│ block5_conv3 (\u001b[38;5;33mConv2D\u001b[0m)                │ (\u001b[38;5;45mNone\u001b[0m, \u001b[38;5;34m9\u001b[0m, \u001b[38;5;34m9\u001b[0m, \u001b[38;5;34m512\u001b[0m)           │       \u001b[38;5;34m2,359,808\u001b[0m │\n",
              "├──────────────────────────────────────┼─────────────────────────────┼─────────────────┤\n",
              "│ block5_pool (\u001b[38;5;33mMaxPooling2D\u001b[0m)           │ (\u001b[38;5;45mNone\u001b[0m, \u001b[38;5;34m4\u001b[0m, \u001b[38;5;34m4\u001b[0m, \u001b[38;5;34m512\u001b[0m)           │               \u001b[38;5;34m0\u001b[0m │\n",
              "└──────────────────────────────────────┴─────────────────────────────┴─────────────────┘\n"
            ],
            "text/html": [
              "<pre style=\"white-space:pre;overflow-x:auto;line-height:normal;font-family:Menlo,'DejaVu Sans Mono',consolas,'Courier New',monospace\">┏━━━━━━━━━━━━━━━━━━━━━━━━━━━━━━━━━━━━━━┳━━━━━━━━━━━━━━━━━━━━━━━━━━━━━┳━━━━━━━━━━━━━━━━━┓\n",
              "┃<span style=\"font-weight: bold\"> Layer (type)                         </span>┃<span style=\"font-weight: bold\"> Output Shape                </span>┃<span style=\"font-weight: bold\">         Param # </span>┃\n",
              "┡━━━━━━━━━━━━━━━━━━━━━━━━━━━━━━━━━━━━━━╇━━━━━━━━━━━━━━━━━━━━━━━━━━━━━╇━━━━━━━━━━━━━━━━━┩\n",
              "│ input_layer (<span style=\"color: #0087ff; text-decoration-color: #0087ff\">InputLayer</span>)             │ (<span style=\"color: #00d7ff; text-decoration-color: #00d7ff\">None</span>, <span style=\"color: #00af00; text-decoration-color: #00af00\">150</span>, <span style=\"color: #00af00; text-decoration-color: #00af00\">150</span>, <span style=\"color: #00af00; text-decoration-color: #00af00\">3</span>)         │               <span style=\"color: #00af00; text-decoration-color: #00af00\">0</span> │\n",
              "├──────────────────────────────────────┼─────────────────────────────┼─────────────────┤\n",
              "│ block1_conv1 (<span style=\"color: #0087ff; text-decoration-color: #0087ff\">Conv2D</span>)                │ (<span style=\"color: #00d7ff; text-decoration-color: #00d7ff\">None</span>, <span style=\"color: #00af00; text-decoration-color: #00af00\">150</span>, <span style=\"color: #00af00; text-decoration-color: #00af00\">150</span>, <span style=\"color: #00af00; text-decoration-color: #00af00\">64</span>)        │           <span style=\"color: #00af00; text-decoration-color: #00af00\">1,792</span> │\n",
              "├──────────────────────────────────────┼─────────────────────────────┼─────────────────┤\n",
              "│ block1_conv2 (<span style=\"color: #0087ff; text-decoration-color: #0087ff\">Conv2D</span>)                │ (<span style=\"color: #00d7ff; text-decoration-color: #00d7ff\">None</span>, <span style=\"color: #00af00; text-decoration-color: #00af00\">150</span>, <span style=\"color: #00af00; text-decoration-color: #00af00\">150</span>, <span style=\"color: #00af00; text-decoration-color: #00af00\">64</span>)        │          <span style=\"color: #00af00; text-decoration-color: #00af00\">36,928</span> │\n",
              "├──────────────────────────────────────┼─────────────────────────────┼─────────────────┤\n",
              "│ block1_pool (<span style=\"color: #0087ff; text-decoration-color: #0087ff\">MaxPooling2D</span>)           │ (<span style=\"color: #00d7ff; text-decoration-color: #00d7ff\">None</span>, <span style=\"color: #00af00; text-decoration-color: #00af00\">75</span>, <span style=\"color: #00af00; text-decoration-color: #00af00\">75</span>, <span style=\"color: #00af00; text-decoration-color: #00af00\">64</span>)          │               <span style=\"color: #00af00; text-decoration-color: #00af00\">0</span> │\n",
              "├──────────────────────────────────────┼─────────────────────────────┼─────────────────┤\n",
              "│ block2_conv1 (<span style=\"color: #0087ff; text-decoration-color: #0087ff\">Conv2D</span>)                │ (<span style=\"color: #00d7ff; text-decoration-color: #00d7ff\">None</span>, <span style=\"color: #00af00; text-decoration-color: #00af00\">75</span>, <span style=\"color: #00af00; text-decoration-color: #00af00\">75</span>, <span style=\"color: #00af00; text-decoration-color: #00af00\">128</span>)         │          <span style=\"color: #00af00; text-decoration-color: #00af00\">73,856</span> │\n",
              "├──────────────────────────────────────┼─────────────────────────────┼─────────────────┤\n",
              "│ block2_conv2 (<span style=\"color: #0087ff; text-decoration-color: #0087ff\">Conv2D</span>)                │ (<span style=\"color: #00d7ff; text-decoration-color: #00d7ff\">None</span>, <span style=\"color: #00af00; text-decoration-color: #00af00\">75</span>, <span style=\"color: #00af00; text-decoration-color: #00af00\">75</span>, <span style=\"color: #00af00; text-decoration-color: #00af00\">128</span>)         │         <span style=\"color: #00af00; text-decoration-color: #00af00\">147,584</span> │\n",
              "├──────────────────────────────────────┼─────────────────────────────┼─────────────────┤\n",
              "│ block2_pool (<span style=\"color: #0087ff; text-decoration-color: #0087ff\">MaxPooling2D</span>)           │ (<span style=\"color: #00d7ff; text-decoration-color: #00d7ff\">None</span>, <span style=\"color: #00af00; text-decoration-color: #00af00\">37</span>, <span style=\"color: #00af00; text-decoration-color: #00af00\">37</span>, <span style=\"color: #00af00; text-decoration-color: #00af00\">128</span>)         │               <span style=\"color: #00af00; text-decoration-color: #00af00\">0</span> │\n",
              "├──────────────────────────────────────┼─────────────────────────────┼─────────────────┤\n",
              "│ block3_conv1 (<span style=\"color: #0087ff; text-decoration-color: #0087ff\">Conv2D</span>)                │ (<span style=\"color: #00d7ff; text-decoration-color: #00d7ff\">None</span>, <span style=\"color: #00af00; text-decoration-color: #00af00\">37</span>, <span style=\"color: #00af00; text-decoration-color: #00af00\">37</span>, <span style=\"color: #00af00; text-decoration-color: #00af00\">256</span>)         │         <span style=\"color: #00af00; text-decoration-color: #00af00\">295,168</span> │\n",
              "├──────────────────────────────────────┼─────────────────────────────┼─────────────────┤\n",
              "│ block3_conv2 (<span style=\"color: #0087ff; text-decoration-color: #0087ff\">Conv2D</span>)                │ (<span style=\"color: #00d7ff; text-decoration-color: #00d7ff\">None</span>, <span style=\"color: #00af00; text-decoration-color: #00af00\">37</span>, <span style=\"color: #00af00; text-decoration-color: #00af00\">37</span>, <span style=\"color: #00af00; text-decoration-color: #00af00\">256</span>)         │         <span style=\"color: #00af00; text-decoration-color: #00af00\">590,080</span> │\n",
              "├──────────────────────────────────────┼─────────────────────────────┼─────────────────┤\n",
              "│ block3_conv3 (<span style=\"color: #0087ff; text-decoration-color: #0087ff\">Conv2D</span>)                │ (<span style=\"color: #00d7ff; text-decoration-color: #00d7ff\">None</span>, <span style=\"color: #00af00; text-decoration-color: #00af00\">37</span>, <span style=\"color: #00af00; text-decoration-color: #00af00\">37</span>, <span style=\"color: #00af00; text-decoration-color: #00af00\">256</span>)         │         <span style=\"color: #00af00; text-decoration-color: #00af00\">590,080</span> │\n",
              "├──────────────────────────────────────┼─────────────────────────────┼─────────────────┤\n",
              "│ block3_pool (<span style=\"color: #0087ff; text-decoration-color: #0087ff\">MaxPooling2D</span>)           │ (<span style=\"color: #00d7ff; text-decoration-color: #00d7ff\">None</span>, <span style=\"color: #00af00; text-decoration-color: #00af00\">18</span>, <span style=\"color: #00af00; text-decoration-color: #00af00\">18</span>, <span style=\"color: #00af00; text-decoration-color: #00af00\">256</span>)         │               <span style=\"color: #00af00; text-decoration-color: #00af00\">0</span> │\n",
              "├──────────────────────────────────────┼─────────────────────────────┼─────────────────┤\n",
              "│ block4_conv1 (<span style=\"color: #0087ff; text-decoration-color: #0087ff\">Conv2D</span>)                │ (<span style=\"color: #00d7ff; text-decoration-color: #00d7ff\">None</span>, <span style=\"color: #00af00; text-decoration-color: #00af00\">18</span>, <span style=\"color: #00af00; text-decoration-color: #00af00\">18</span>, <span style=\"color: #00af00; text-decoration-color: #00af00\">512</span>)         │       <span style=\"color: #00af00; text-decoration-color: #00af00\">1,180,160</span> │\n",
              "├──────────────────────────────────────┼─────────────────────────────┼─────────────────┤\n",
              "│ block4_conv2 (<span style=\"color: #0087ff; text-decoration-color: #0087ff\">Conv2D</span>)                │ (<span style=\"color: #00d7ff; text-decoration-color: #00d7ff\">None</span>, <span style=\"color: #00af00; text-decoration-color: #00af00\">18</span>, <span style=\"color: #00af00; text-decoration-color: #00af00\">18</span>, <span style=\"color: #00af00; text-decoration-color: #00af00\">512</span>)         │       <span style=\"color: #00af00; text-decoration-color: #00af00\">2,359,808</span> │\n",
              "├──────────────────────────────────────┼─────────────────────────────┼─────────────────┤\n",
              "│ block4_conv3 (<span style=\"color: #0087ff; text-decoration-color: #0087ff\">Conv2D</span>)                │ (<span style=\"color: #00d7ff; text-decoration-color: #00d7ff\">None</span>, <span style=\"color: #00af00; text-decoration-color: #00af00\">18</span>, <span style=\"color: #00af00; text-decoration-color: #00af00\">18</span>, <span style=\"color: #00af00; text-decoration-color: #00af00\">512</span>)         │       <span style=\"color: #00af00; text-decoration-color: #00af00\">2,359,808</span> │\n",
              "├──────────────────────────────────────┼─────────────────────────────┼─────────────────┤\n",
              "│ block4_pool (<span style=\"color: #0087ff; text-decoration-color: #0087ff\">MaxPooling2D</span>)           │ (<span style=\"color: #00d7ff; text-decoration-color: #00d7ff\">None</span>, <span style=\"color: #00af00; text-decoration-color: #00af00\">9</span>, <span style=\"color: #00af00; text-decoration-color: #00af00\">9</span>, <span style=\"color: #00af00; text-decoration-color: #00af00\">512</span>)           │               <span style=\"color: #00af00; text-decoration-color: #00af00\">0</span> │\n",
              "├──────────────────────────────────────┼─────────────────────────────┼─────────────────┤\n",
              "│ block5_conv1 (<span style=\"color: #0087ff; text-decoration-color: #0087ff\">Conv2D</span>)                │ (<span style=\"color: #00d7ff; text-decoration-color: #00d7ff\">None</span>, <span style=\"color: #00af00; text-decoration-color: #00af00\">9</span>, <span style=\"color: #00af00; text-decoration-color: #00af00\">9</span>, <span style=\"color: #00af00; text-decoration-color: #00af00\">512</span>)           │       <span style=\"color: #00af00; text-decoration-color: #00af00\">2,359,808</span> │\n",
              "├──────────────────────────────────────┼─────────────────────────────┼─────────────────┤\n",
              "│ block5_conv2 (<span style=\"color: #0087ff; text-decoration-color: #0087ff\">Conv2D</span>)                │ (<span style=\"color: #00d7ff; text-decoration-color: #00d7ff\">None</span>, <span style=\"color: #00af00; text-decoration-color: #00af00\">9</span>, <span style=\"color: #00af00; text-decoration-color: #00af00\">9</span>, <span style=\"color: #00af00; text-decoration-color: #00af00\">512</span>)           │       <span style=\"color: #00af00; text-decoration-color: #00af00\">2,359,808</span> │\n",
              "├──────────────────────────────────────┼─────────────────────────────┼─────────────────┤\n",
              "│ block5_conv3 (<span style=\"color: #0087ff; text-decoration-color: #0087ff\">Conv2D</span>)                │ (<span style=\"color: #00d7ff; text-decoration-color: #00d7ff\">None</span>, <span style=\"color: #00af00; text-decoration-color: #00af00\">9</span>, <span style=\"color: #00af00; text-decoration-color: #00af00\">9</span>, <span style=\"color: #00af00; text-decoration-color: #00af00\">512</span>)           │       <span style=\"color: #00af00; text-decoration-color: #00af00\">2,359,808</span> │\n",
              "├──────────────────────────────────────┼─────────────────────────────┼─────────────────┤\n",
              "│ block5_pool (<span style=\"color: #0087ff; text-decoration-color: #0087ff\">MaxPooling2D</span>)           │ (<span style=\"color: #00d7ff; text-decoration-color: #00d7ff\">None</span>, <span style=\"color: #00af00; text-decoration-color: #00af00\">4</span>, <span style=\"color: #00af00; text-decoration-color: #00af00\">4</span>, <span style=\"color: #00af00; text-decoration-color: #00af00\">512</span>)           │               <span style=\"color: #00af00; text-decoration-color: #00af00\">0</span> │\n",
              "└──────────────────────────────────────┴─────────────────────────────┴─────────────────┘\n",
              "</pre>\n"
            ]
          },
          "metadata": {}
        },
        {
          "output_type": "display_data",
          "data": {
            "text/plain": [
              "\u001b[1m Total params: \u001b[0m\u001b[38;5;34m14,714,688\u001b[0m (56.13 MB)\n"
            ],
            "text/html": [
              "<pre style=\"white-space:pre;overflow-x:auto;line-height:normal;font-family:Menlo,'DejaVu Sans Mono',consolas,'Courier New',monospace\"><span style=\"font-weight: bold\"> Total params: </span><span style=\"color: #00af00; text-decoration-color: #00af00\">14,714,688</span> (56.13 MB)\n",
              "</pre>\n"
            ]
          },
          "metadata": {}
        },
        {
          "output_type": "display_data",
          "data": {
            "text/plain": [
              "\u001b[1m Trainable params: \u001b[0m\u001b[38;5;34m14,714,688\u001b[0m (56.13 MB)\n"
            ],
            "text/html": [
              "<pre style=\"white-space:pre;overflow-x:auto;line-height:normal;font-family:Menlo,'DejaVu Sans Mono',consolas,'Courier New',monospace\"><span style=\"font-weight: bold\"> Trainable params: </span><span style=\"color: #00af00; text-decoration-color: #00af00\">14,714,688</span> (56.13 MB)\n",
              "</pre>\n"
            ]
          },
          "metadata": {}
        },
        {
          "output_type": "display_data",
          "data": {
            "text/plain": [
              "\u001b[1m Non-trainable params: \u001b[0m\u001b[38;5;34m0\u001b[0m (0.00 B)\n"
            ],
            "text/html": [
              "<pre style=\"white-space:pre;overflow-x:auto;line-height:normal;font-family:Menlo,'DejaVu Sans Mono',consolas,'Courier New',monospace\"><span style=\"font-weight: bold\"> Non-trainable params: </span><span style=\"color: #00af00; text-decoration-color: #00af00\">0</span> (0.00 B)\n",
              "</pre>\n"
            ]
          },
          "metadata": {}
        }
      ],
      "source": [
        "conv_base.summary()"
      ]
    },
    {
      "cell_type": "code",
      "execution_count": null,
      "metadata": {
        "id": "EurjGu-dT9sY"
      },
      "outputs": [],
      "source": [
        "import os\n",
        "import numpy as np\n",
        "from tensorflow.keras.preprocessing.image import ImageDataGenerator # Import from tensorflow.keras"
      ]
    },
    {
      "cell_type": "code",
      "execution_count": null,
      "metadata": {
        "id": "FfQ5kA7WRg-O"
      },
      "outputs": [],
      "source": [
        "train_dir = os.path.join(base_dir, 'train')\n",
        "validation_dir = os.path.join(base_dir, 'validation')\n",
        "test_dir = os.path.join(base_dir, 'test')\n"
      ]
    },
    {
      "cell_type": "code",
      "execution_count": null,
      "metadata": {
        "id": "uG5LuACyRmj7"
      },
      "outputs": [],
      "source": [
        "datagen = ImageDataGenerator(rescale=1./255)\n",
        "batch_size = 20"
      ]
    },
    {
      "cell_type": "code",
      "execution_count": null,
      "metadata": {
        "colab": {
          "base_uri": "https://localhost:8080/"
        },
        "id": "EeE2bJe5hz3P",
        "outputId": "dcb408f9-e55a-4a1e-88f6-3adccd35f1dd"
      },
      "outputs": [
        {
          "output_type": "stream",
          "name": "stdout",
          "text": [
            "Found 288 images belonging to 2 classes.\n",
            "\u001b[1m1/1\u001b[0m \u001b[32m━━━━━━━━━━━━━━━━━━━━\u001b[0m\u001b[37m\u001b[0m \u001b[1m7s\u001b[0m 7s/step\n",
            "\u001b[1m1/1\u001b[0m \u001b[32m━━━━━━━━━━━━━━━━━━━━\u001b[0m\u001b[37m\u001b[0m \u001b[1m0s\u001b[0m 34ms/step\n",
            "\u001b[1m1/1\u001b[0m \u001b[32m━━━━━━━━━━━━━━━━━━━━\u001b[0m\u001b[37m\u001b[0m \u001b[1m0s\u001b[0m 24ms/step\n",
            "\u001b[1m1/1\u001b[0m \u001b[32m━━━━━━━━━━━━━━━━━━━━\u001b[0m\u001b[37m\u001b[0m \u001b[1m0s\u001b[0m 24ms/step\n",
            "\u001b[1m1/1\u001b[0m \u001b[32m━━━━━━━━━━━━━━━━━━━━\u001b[0m\u001b[37m\u001b[0m \u001b[1m0s\u001b[0m 42ms/step\n",
            "\u001b[1m1/1\u001b[0m \u001b[32m━━━━━━━━━━━━━━━━━━━━\u001b[0m\u001b[37m\u001b[0m \u001b[1m0s\u001b[0m 24ms/step\n",
            "\u001b[1m1/1\u001b[0m \u001b[32m━━━━━━━━━━━━━━━━━━━━\u001b[0m\u001b[37m\u001b[0m \u001b[1m0s\u001b[0m 39ms/step\n",
            "\u001b[1m1/1\u001b[0m \u001b[32m━━━━━━━━━━━━━━━━━━━━\u001b[0m\u001b[37m\u001b[0m \u001b[1m0s\u001b[0m 25ms/step\n",
            "\u001b[1m1/1\u001b[0m \u001b[32m━━━━━━━━━━━━━━━━━━━━\u001b[0m\u001b[37m\u001b[0m \u001b[1m0s\u001b[0m 22ms/step\n",
            "\u001b[1m1/1\u001b[0m \u001b[32m━━━━━━━━━━━━━━━━━━━━\u001b[0m\u001b[37m\u001b[0m \u001b[1m0s\u001b[0m 21ms/step\n",
            "\u001b[1m1/1\u001b[0m \u001b[32m━━━━━━━━━━━━━━━━━━━━\u001b[0m\u001b[37m\u001b[0m \u001b[1m0s\u001b[0m 21ms/step\n",
            "\u001b[1m1/1\u001b[0m \u001b[32m━━━━━━━━━━━━━━━━━━━━\u001b[0m\u001b[37m\u001b[0m \u001b[1m0s\u001b[0m 21ms/step\n",
            "\u001b[1m1/1\u001b[0m \u001b[32m━━━━━━━━━━━━━━━━━━━━\u001b[0m\u001b[37m\u001b[0m \u001b[1m0s\u001b[0m 31ms/step\n",
            "\u001b[1m1/1\u001b[0m \u001b[32m━━━━━━━━━━━━━━━━━━━━\u001b[0m\u001b[37m\u001b[0m \u001b[1m0s\u001b[0m 20ms/step\n",
            "\u001b[1m1/1\u001b[0m \u001b[32m━━━━━━━━━━━━━━━━━━━━\u001b[0m\u001b[37m\u001b[0m \u001b[1m3s\u001b[0m 3s/step\n",
            "Found 128 images belonging to 2 classes.\n",
            "\u001b[1m1/1\u001b[0m \u001b[32m━━━━━━━━━━━━━━━━━━━━\u001b[0m\u001b[37m\u001b[0m \u001b[1m0s\u001b[0m 21ms/step\n",
            "\u001b[1m1/1\u001b[0m \u001b[32m━━━━━━━━━━━━━━━━━━━━\u001b[0m\u001b[37m\u001b[0m \u001b[1m0s\u001b[0m 21ms/step\n",
            "\u001b[1m1/1\u001b[0m \u001b[32m━━━━━━━━━━━━━━━━━━━━\u001b[0m\u001b[37m\u001b[0m \u001b[1m0s\u001b[0m 36ms/step\n",
            "\u001b[1m1/1\u001b[0m \u001b[32m━━━━━━━━━━━━━━━━━━━━\u001b[0m\u001b[37m\u001b[0m \u001b[1m0s\u001b[0m 22ms/step\n",
            "\u001b[1m1/1\u001b[0m \u001b[32m━━━━━━━━━━━━━━━━━━━━\u001b[0m\u001b[37m\u001b[0m \u001b[1m0s\u001b[0m 23ms/step\n",
            "\u001b[1m1/1\u001b[0m \u001b[32m━━━━━━━━━━━━━━━━━━━━\u001b[0m\u001b[37m\u001b[0m \u001b[1m0s\u001b[0m 20ms/step\n",
            "\u001b[1m1/1\u001b[0m \u001b[32m━━━━━━━━━━━━━━━━━━━━\u001b[0m\u001b[37m\u001b[0m \u001b[1m0s\u001b[0m 20ms/step\n",
            "Found 40 images belonging to 2 classes.\n",
            "\u001b[1m1/1\u001b[0m \u001b[32m━━━━━━━━━━━━━━━━━━━━\u001b[0m\u001b[37m\u001b[0m \u001b[1m0s\u001b[0m 34ms/step\n",
            "\u001b[1m1/1\u001b[0m \u001b[32m━━━━━━━━━━━━━━━━━━━━\u001b[0m\u001b[37m\u001b[0m \u001b[1m0s\u001b[0m 22ms/step\n"
          ]
        }
      ],
      "source": [
        "train_dir = os.path.join(base_dir, 'train')\n",
        "validation_dir = os.path.join(base_dir, 'validation')\n",
        "test_dir = os.path.join(base_dir, 'test')\n",
        "\n",
        "datagen = ImageDataGenerator(rescale=1./255)\n",
        "batch_size = 20\n",
        "\n",
        "def extract_features(directory, sample_count):\n",
        "  features = np.zeros(shape=(sample_count, 4, 4, 512))\n",
        "  labels = np.zeros(shape=(sample_count))\n",
        "  generator = datagen.flow_from_directory(\n",
        "      directory,\n",
        "      target_size=(150, 150),\n",
        "      batch_size=batch_size,\n",
        "      class_mode='binary')\n",
        "  i = 0\n",
        "  for inputs_batch, labels_batch in generator:\n",
        "    features_batch = conv_base.predict(inputs_batch)\n",
        "    features[i * batch_size : (i + 1) * batch_size] = features_batch\n",
        "    labels[i * batch_size : (i + 1) * batch_size] = labels_batch\n",
        "    i += 1\n",
        "    if i * batch_size >= sample_count:\n",
        "      break\n",
        "  return features, labels\n",
        "\n",
        "train_features, train_labels = extract_features(train_dir,288 )\n",
        "validation_features, validation_labels = extract_features(validation_dir,128 )\n",
        "test_features, test_labels = extract_features(test_dir,40 )"
      ]
    },
    {
      "cell_type": "code",
      "execution_count": null,
      "metadata": {
        "id": "5ITNW5kPSIei"
      },
      "outputs": [],
      "source": [
        "train_features = np.reshape(train_features, (288, 4 * 4 * 512))\n",
        "validation_features = np.reshape(validation_features, (128, 4 * 4 * 512))\n",
        "test_features = np.reshape(test_features, (40, 4 * 4 * 512))"
      ]
    },
    {
      "cell_type": "markdown",
      "metadata": {
        "id": "tIIMstXwSStG"
      },
      "source": [
        "# Defining and training the densely connected classifier"
      ]
    },
    {
      "cell_type": "code",
      "execution_count": null,
      "metadata": {
        "id": "a0XLNE9FSpIc"
      },
      "outputs": [],
      "source": [
        "from keras import models\n",
        "from keras import layers\n",
        "from keras import optimizers"
      ]
    },
    {
      "cell_type": "markdown",
      "metadata": {
        "id": "LgbENK0gSxBK"
      },
      "source": [
        "# Build model"
      ]
    },
    {
      "cell_type": "code",
      "execution_count": null,
      "metadata": {
        "id": "Zy4YzpoWS1Y0"
      },
      "outputs": [],
      "source": [
        "model = models.Sequential()\n",
        "model.add(layers.Dense(256, activation='relu', input_dim=4 * 4 * 512))\n",
        "model.add(layers.Dropout(0.5))\n",
        "model.add(layers.Dense(1, activation='sigmoid'))"
      ]
    },
    {
      "cell_type": "markdown",
      "metadata": {
        "id": "QIRXwaRaTBpo"
      },
      "source": [
        "# compile"
      ]
    },
    {
      "cell_type": "code",
      "execution_count": null,
      "metadata": {
        "id": "o_bBB6Q4VDh9"
      },
      "outputs": [],
      "source": [
        "model.compile(optimizer=optimizers.RMSprop(learning_rate=2e-5), # Use learning_rate instead of lr\n",
        "              loss='binary_crossentropy',\n",
        "              metrics=['acc'])"
      ]
    },
    {
      "cell_type": "markdown",
      "metadata": {
        "id": "CMWve77fTOXs"
      },
      "source": [
        "# Fitting"
      ]
    },
    {
      "cell_type": "code",
      "execution_count": null,
      "metadata": {
        "colab": {
          "base_uri": "https://localhost:8080/"
        },
        "id": "9jGqT_-lTTrp",
        "outputId": "63740f10-e0e3-4c20-a433-ed1d0cb8ca59"
      },
      "outputs": [
        {
          "name": "stdout",
          "output_type": "stream",
          "text": [
            "Epoch 1/30\n",
            "\u001b[1m15/15\u001b[0m \u001b[32m━━━━━━━━━━━━━━━━━━━━\u001b[0m\u001b[37m\u001b[0m \u001b[1m2s\u001b[0m 87ms/step - acc: 0.5496 - loss: 0.7658 - val_acc: 0.8359 - val_loss: 0.5319\n",
            "Epoch 2/30\n",
            "\u001b[1m15/15\u001b[0m \u001b[32m━━━━━━━━━━━━━━━━━━━━\u001b[0m\u001b[37m\u001b[0m \u001b[1m0s\u001b[0m 4ms/step - acc: 0.6490 - loss: 0.6403 - val_acc: 0.8750 - val_loss: 0.4604\n",
            "Epoch 3/30\n",
            "\u001b[1m15/15\u001b[0m \u001b[32m━━━━━━━━━━━━━━━━━━━━\u001b[0m\u001b[37m\u001b[0m \u001b[1m0s\u001b[0m 4ms/step - acc: 0.6710 - loss: 0.5793 - val_acc: 0.8906 - val_loss: 0.4205\n",
            "Epoch 4/30\n",
            "\u001b[1m15/15\u001b[0m \u001b[32m━━━━━━━━━━━━━━━━━━━━\u001b[0m\u001b[37m\u001b[0m \u001b[1m0s\u001b[0m 6ms/step - acc: 0.7346 - loss: 0.5287 - val_acc: 0.9141 - val_loss: 0.3820\n",
            "Epoch 5/30\n",
            "\u001b[1m15/15\u001b[0m \u001b[32m━━━━━━━━━━━━━━━━━━━━\u001b[0m\u001b[37m\u001b[0m \u001b[1m0s\u001b[0m 6ms/step - acc: 0.7449 - loss: 0.5038 - val_acc: 0.9141 - val_loss: 0.3459\n",
            "Epoch 6/30\n",
            "\u001b[1m15/15\u001b[0m \u001b[32m━━━━━━━━━━━━━━━━━━━━\u001b[0m\u001b[37m\u001b[0m \u001b[1m0s\u001b[0m 5ms/step - acc: 0.7879 - loss: 0.4855 - val_acc: 0.9531 - val_loss: 0.3054\n",
            "Epoch 7/30\n",
            "\u001b[1m15/15\u001b[0m \u001b[32m━━━━━━━━━━━━━━━━━━━━\u001b[0m\u001b[37m\u001b[0m \u001b[1m0s\u001b[0m 5ms/step - acc: 0.8080 - loss: 0.4377 - val_acc: 0.9688 - val_loss: 0.2766\n",
            "Epoch 8/30\n",
            "\u001b[1m15/15\u001b[0m \u001b[32m━━━━━━━━━━━━━━━━━━━━\u001b[0m\u001b[37m\u001b[0m \u001b[1m0s\u001b[0m 6ms/step - acc: 0.8108 - loss: 0.4326 - val_acc: 0.9688 - val_loss: 0.2674\n",
            "Epoch 9/30\n",
            "\u001b[1m15/15\u001b[0m \u001b[32m━━━━━━━━━━━━━━━━━━━━\u001b[0m\u001b[37m\u001b[0m \u001b[1m0s\u001b[0m 5ms/step - acc: 0.8606 - loss: 0.3690 - val_acc: 0.9844 - val_loss: 0.2402\n",
            "Epoch 10/30\n",
            "\u001b[1m15/15\u001b[0m \u001b[32m━━━━━━━━━━━━━━━━━━━━\u001b[0m\u001b[37m\u001b[0m \u001b[1m0s\u001b[0m 5ms/step - acc: 0.8876 - loss: 0.3398 - val_acc: 0.9844 - val_loss: 0.2227\n",
            "Epoch 11/30\n",
            "\u001b[1m15/15\u001b[0m \u001b[32m━━━━━━━━━━━━━━━━━━━━\u001b[0m\u001b[37m\u001b[0m \u001b[1m0s\u001b[0m 6ms/step - acc: 0.8930 - loss: 0.3229 - val_acc: 0.9922 - val_loss: 0.2096\n",
            "Epoch 12/30\n",
            "\u001b[1m15/15\u001b[0m \u001b[32m━━━━━━━━━━━━━━━━━━━━\u001b[0m\u001b[37m\u001b[0m \u001b[1m0s\u001b[0m 5ms/step - acc: 0.9036 - loss: 0.3203 - val_acc: 0.9922 - val_loss: 0.1953\n",
            "Epoch 13/30\n",
            "\u001b[1m15/15\u001b[0m \u001b[32m━━━━━━━━━━━━━━━━━━━━\u001b[0m\u001b[37m\u001b[0m \u001b[1m0s\u001b[0m 6ms/step - acc: 0.8966 - loss: 0.2911 - val_acc: 0.9844 - val_loss: 0.1894\n",
            "Epoch 14/30\n",
            "\u001b[1m15/15\u001b[0m \u001b[32m━━━━━━━━━━━━━━━━━━━━\u001b[0m\u001b[37m\u001b[0m \u001b[1m0s\u001b[0m 5ms/step - acc: 0.9313 - loss: 0.2744 - val_acc: 0.9844 - val_loss: 0.1762\n",
            "Epoch 15/30\n",
            "\u001b[1m15/15\u001b[0m \u001b[32m━━━━━━━━━━━━━━━━━━━━\u001b[0m\u001b[37m\u001b[0m \u001b[1m0s\u001b[0m 5ms/step - acc: 0.9099 - loss: 0.2764 - val_acc: 0.9922 - val_loss: 0.1568\n",
            "Epoch 16/30\n",
            "\u001b[1m15/15\u001b[0m \u001b[32m━━━━━━━━━━━━━━━━━━━━\u001b[0m\u001b[37m\u001b[0m \u001b[1m0s\u001b[0m 6ms/step - acc: 0.9264 - loss: 0.2650 - val_acc: 1.0000 - val_loss: 0.1549\n",
            "Epoch 17/30\n",
            "\u001b[1m15/15\u001b[0m \u001b[32m━━━━━━━━━━━━━━━━━━━━\u001b[0m\u001b[37m\u001b[0m \u001b[1m0s\u001b[0m 5ms/step - acc: 0.9286 - loss: 0.2447 - val_acc: 0.9922 - val_loss: 0.1345\n",
            "Epoch 18/30\n",
            "\u001b[1m15/15\u001b[0m \u001b[32m━━━━━━━━━━━━━━━━━━━━\u001b[0m\u001b[37m\u001b[0m \u001b[1m0s\u001b[0m 6ms/step - acc: 0.9179 - loss: 0.2414 - val_acc: 0.9922 - val_loss: 0.1267\n",
            "Epoch 19/30\n",
            "\u001b[1m15/15\u001b[0m \u001b[32m━━━━━━━━━━━━━━━━━━━━\u001b[0m\u001b[37m\u001b[0m \u001b[1m0s\u001b[0m 6ms/step - acc: 0.9359 - loss: 0.2068 - val_acc: 0.9922 - val_loss: 0.1470\n",
            "Epoch 20/30\n",
            "\u001b[1m15/15\u001b[0m \u001b[32m━━━━━━━━━━━━━━━━━━━━\u001b[0m\u001b[37m\u001b[0m \u001b[1m0s\u001b[0m 6ms/step - acc: 0.9359 - loss: 0.2261 - val_acc: 1.0000 - val_loss: 0.1129\n",
            "Epoch 21/30\n",
            "\u001b[1m15/15\u001b[0m \u001b[32m━━━━━━━━━━━━━━━━━━━━\u001b[0m\u001b[37m\u001b[0m \u001b[1m0s\u001b[0m 6ms/step - acc: 0.9679 - loss: 0.1931 - val_acc: 1.0000 - val_loss: 0.1093\n",
            "Epoch 22/30\n",
            "\u001b[1m15/15\u001b[0m \u001b[32m━━━━━━━━━━━━━━━━━━━━\u001b[0m\u001b[37m\u001b[0m \u001b[1m0s\u001b[0m 5ms/step - acc: 0.9319 - loss: 0.2003 - val_acc: 1.0000 - val_loss: 0.0993\n",
            "Epoch 23/30\n",
            "\u001b[1m15/15\u001b[0m \u001b[32m━━━━━━━━━━━━━━━━━━━━\u001b[0m\u001b[37m\u001b[0m \u001b[1m0s\u001b[0m 6ms/step - acc: 0.9427 - loss: 0.2005 - val_acc: 1.0000 - val_loss: 0.1021\n",
            "Epoch 24/30\n",
            "\u001b[1m15/15\u001b[0m \u001b[32m━━━━━━━━━━━━━━━━━━━━\u001b[0m\u001b[37m\u001b[0m \u001b[1m0s\u001b[0m 6ms/step - acc: 0.9682 - loss: 0.1676 - val_acc: 1.0000 - val_loss: 0.0947\n",
            "Epoch 25/30\n",
            "\u001b[1m15/15\u001b[0m \u001b[32m━━━━━━━━━━━━━━━━━━━━\u001b[0m\u001b[37m\u001b[0m \u001b[1m0s\u001b[0m 6ms/step - acc: 0.9505 - loss: 0.1746 - val_acc: 1.0000 - val_loss: 0.0887\n",
            "Epoch 26/30\n",
            "\u001b[1m15/15\u001b[0m \u001b[32m━━━━━━━━━━━━━━━━━━━━\u001b[0m\u001b[37m\u001b[0m \u001b[1m0s\u001b[0m 9ms/step - acc: 0.9625 - loss: 0.1621 - val_acc: 1.0000 - val_loss: 0.0811\n",
            "Epoch 27/30\n",
            "\u001b[1m15/15\u001b[0m \u001b[32m━━━━━━━━━━━━━━━━━━━━\u001b[0m\u001b[37m\u001b[0m \u001b[1m0s\u001b[0m 5ms/step - acc: 0.9563 - loss: 0.1552 - val_acc: 1.0000 - val_loss: 0.0792\n",
            "Epoch 28/30\n",
            "\u001b[1m15/15\u001b[0m \u001b[32m━━━━━━━━━━━━━━━━━━━━\u001b[0m\u001b[37m\u001b[0m \u001b[1m0s\u001b[0m 4ms/step - acc: 0.9636 - loss: 0.1378 - val_acc: 1.0000 - val_loss: 0.0780\n",
            "Epoch 29/30\n",
            "\u001b[1m15/15\u001b[0m \u001b[32m━━━━━━━━━━━━━━━━━━━━\u001b[0m\u001b[37m\u001b[0m \u001b[1m0s\u001b[0m 4ms/step - acc: 0.9835 - loss: 0.1269 - val_acc: 1.0000 - val_loss: 0.0754\n",
            "Epoch 30/30\n",
            "\u001b[1m15/15\u001b[0m \u001b[32m━━━━━━━━━━━━━━━━━━━━\u001b[0m\u001b[37m\u001b[0m \u001b[1m0s\u001b[0m 4ms/step - acc: 0.9884 - loss: 0.1366 - val_acc: 1.0000 - val_loss: 0.0727\n"
          ]
        }
      ],
      "source": [
        "history = model.fit(train_features, train_labels,\n",
        "                    epochs=30,\n",
        "                    batch_size=20,\n",
        "                    validation_data=(validation_features, validation_labels))"
      ]
    },
    {
      "cell_type": "markdown",
      "source": [
        "# save model"
      ],
      "metadata": {
        "id": "ml2nOryH_RDK"
      }
    },
    {
      "cell_type": "code",
      "execution_count": null,
      "metadata": {
        "colab": {
          "base_uri": "https://localhost:8080/"
        },
        "id": "8wp0XGVVbgPP",
        "outputId": "a9e10224-0e1e-4466-b0d4-99aab66dab86"
      },
      "outputs": [
        {
          "name": "stderr",
          "output_type": "stream",
          "text": [
            "WARNING:absl:You are saving your model as an HDF5 file via `model.save()` or `keras.saving.save_model(model)`. This file format is considered legacy. We recommend using instead the native Keras format, e.g. `model.save('my_model.keras')` or `keras.saving.save_model(model, 'my_model.keras')`. \n"
          ]
        }
      ],
      "source": [
        "model.save('salman_and_rizwan_3.h5')"
      ]
    },
    {
      "cell_type": "markdown",
      "source": [
        "# ploting results"
      ],
      "metadata": {
        "id": "qO40vJrConud"
      }
    },
    {
      "cell_type": "code",
      "execution_count": null,
      "metadata": {
        "colab": {
          "base_uri": "https://localhost:8080/",
          "height": 887
        },
        "id": "og-6lOoITlIS",
        "outputId": "85ebfffa-2f4f-4235-8c4c-bba3013744d7"
      },
      "outputs": [
        {
          "data": {
            "image/png": "[encoded data removed]",
            "text/plain": [
              "<Figure size 640x480 with 1 Axes>"
            ]
          },
          "metadata": {},
          "output_type": "display_data"
        },
        {
          "data": {
            "image/png": "[encoded data removed]",
            "text/plain": [
              "<Figure size 640x480 with 1 Axes>"
            ]
          },
          "metadata": {},
          "output_type": "display_data"
        }
      ],
      "source": [
        "import matplotlib.pyplot as plt\n",
        "\n",
        "acc = history.history['acc']\n",
        "val_acc = history.history['val_acc']\n",
        "loss = history.history['loss']\n",
        "val_loss = history.history['val_loss']\n",
        "\n",
        "epochs = range(1, len(acc) + 1)\n",
        "\n",
        "plt.plot(epochs, acc, 'ro', label='Training acc')\n",
        "plt.plot(epochs, val_acc, 'b', label='Validation acc')\n",
        "plt.title('Training and validation accuracy')\n",
        "plt.legend()\n",
        "plt.figure()\n",
        "\n",
        "plt.plot(epochs, loss, 'ro', label='Training loss')\n",
        "plt.plot(epochs, val_loss, 'b', label='Validation loss')\n",
        "plt.title('Training and validation loss')\n",
        "plt.legend()\n",
        "plt.show()"
      ]
    }
  ],
  "metadata": {
    "accelerator": "GPU",
    "colab": {
      "gpuType": "T4",
      "provenance": [],
      "include_colab_link": true
    },
    "kernelspec": {
      "display_name": "Python 3",
      "name": "python3"
    },
    "language_info": {
      "name": "python"
    }
  },
  "nbformat": 4,
  "nbformat_minor": 0
}